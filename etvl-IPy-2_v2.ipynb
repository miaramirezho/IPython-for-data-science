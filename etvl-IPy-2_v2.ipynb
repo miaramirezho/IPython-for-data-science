{
 "cells": [
  {
   "cell_type": "markdown",
   "metadata": {},
   "source": [
    "**Recuerde no agregar o quitar celdas en este notebook, ni modificar su tipo. Si lo hace, el sistema automaticamente lo calificará con cero punto cero (0.0)**"
   ]
  },
  {
   "cell_type": "markdown",
   "metadata": {},
   "source": [
    "# Descripción"
   ]
  },
  {
   "cell_type": "markdown",
   "metadata": {},
   "source": [
    "Esta tarea tiene como fin ayudarlo a profundizar sus conocimientos en programación con el lenguaje Python usando Pandas. En la siguiente celda importaré algunas librerias y leeré algunos archivos por usted."
   ]
  },
  {
   "cell_type": "code",
   "execution_count": 2,
   "metadata": {
    "collapsed": true
   },
   "outputs": [],
   "source": [
    "###__test__\n",
    "import pandas\n",
    "customer    = pandas.read_table('customer',    sep = ',', decimal = '.')\n",
    "employee    = pandas.read_table('employee',    sep = ',', decimal = '.')\n",
    "family      = pandas.read_table('family',      sep = ',', decimal = '.')\n",
    "order2000   = pandas.read_table('order2000',   sep = ',', decimal = '.')\n",
    "order2001   = pandas.read_table('order2001',   sep = ',', decimal = '.')\n",
    "order2002   = pandas.read_table('order2002',   sep = ',', decimal = '.')\n",
    "order2003   = pandas.read_table('order2003',   sep = ',', decimal = '.')\n",
    "order2004   = pandas.read_table('order2004',   sep = ',', decimal = '.')\n",
    "order2005   = pandas.read_table('order2005',   sep = ',', decimal = '.')\n",
    "order2006   = pandas.read_table('order2006',   sep = ',', decimal = '.')\n",
    "order2007   = pandas.read_table('order2007',   sep = ',', decimal = '.')\n",
    "order2008   = pandas.read_table('order2008',   sep = ',', decimal = '.')\n",
    "order2009   = pandas.read_table('order2009',   sep = ',', decimal = '.')\n",
    "order2010   = pandas.read_table('order2010',   sep = ',', decimal = '.')\n",
    "order2011   = pandas.read_table('order2011',   sep = ',', decimal = '.')\n",
    "order2012   = pandas.read_table('order2012',   sep = ',', decimal = '.')\n",
    "order2013   = pandas.read_table('order2013',   sep = ',', decimal = '.')\n",
    "order2014   = pandas.read_table('order2014',   sep = ',', decimal = '.')\n",
    "order2015   = pandas.read_table('order2015',   sep = ',', decimal = '.')\n",
    "order2016   = pandas.read_table('order2016',   sep = ',', decimal = '.')\n",
    "orderdetail = pandas.read_table('orderdetail', sep = ',', decimal = '.')\n",
    "product     = pandas.read_table('product',     sep = ',', decimal = '.')\n",
    "supplier    = pandas.read_table('supplier',    sep = ',', decimal = '.')"
   ]
  },
  {
   "cell_type": "markdown",
   "metadata": {},
   "source": [
    "# Problema 1"
   ]
  },
  {
   "cell_type": "markdown",
   "metadata": {},
   "source": [
    "Imprima el valor del campo `ssn` (uno por línea) para los registros 2, 6 y 8 del archivo `employee`."
   ]
  },
  {
   "cell_type": "code",
   "execution_count": 42,
   "metadata": {},
   "outputs": [
    {
     "name": "stdout",
     "output_type": "stream",
     "text": [
      "496-99-2998 \n",
      " 323-35-2171 \n",
      "  496-24-5751\n"
     ]
    }
   ],
   "source": [
    "#print(employee.iloc[[1, 5, 7]]['ssn'])\n",
    "#employee.loc[[1, 5, 7]]['ssn']\n",
    "x= employee.ix[1, 'ssn']\n",
    "y= employee.ix[5, 'ssn']\n",
    "z= employee.ix[7, 'ssn']\n",
    "print(x,\"\\n\",y,\"\\n \",z)"
   ]
  },
  {
   "cell_type": "markdown",
   "metadata": {},
   "source": [
    "# Problema 2"
   ]
  },
  {
   "cell_type": "markdown",
   "metadata": {},
   "source": [
    "Imprima el total de registros (uno por línea) para los archivos `employee`, `product` y `orderdetail`."
   ]
  },
  {
   "cell_type": "code",
   "execution_count": 4,
   "metadata": {},
   "outputs": [
    {
     "name": "stdout",
     "output_type": "stream",
     "text": [
      "50\n",
      "146\n",
      "25946\n"
     ]
    }
   ],
   "source": [
    "print(len(employee))\n",
    "print(len(product))\n",
    "print(len(orderdetail))"
   ]
  },
  {
   "cell_type": "markdown",
   "metadata": {},
   "source": [
    "# Problema 3"
   ]
  },
  {
   "cell_type": "markdown",
   "metadata": {},
   "source": [
    "Escriba una función `f` que reciba el nombre de un departamento y cuente cuantos registros hay para dicho departamento en el archivo `employee`. "
   ]
  },
  {
   "cell_type": "code",
   "execution_count": 12,
   "metadata": {
    "collapsed": true
   },
   "outputs": [],
   "source": [
    "#def f(departamento):\n",
    "    #return len(employee.loc[employee.groupby('department').groups[departamento]].head())\n",
    "def f(departamento):\n",
    "    return len(employee.loc[employee.groupby('department').groups[departamento]])"
   ]
  },
  {
   "cell_type": "code",
   "execution_count": 13,
   "metadata": {},
   "outputs": [
    {
     "name": "stdout",
     "output_type": "stream",
     "text": [
      "4\n",
      "3\n",
      "3\n",
      "1\n",
      "21\n"
     ]
    }
   ],
   "source": [
    "###__test__\n",
    "print(f(\"Accounting\"))\n",
    "print(f(\"Advertising\"))\n",
    "print(f(\"Asset Management\"))\n",
    "print(f(\"Media Relations\"))\n",
    "print(f(\"Sales and Marketing\"))"
   ]
  },
  {
   "cell_type": "markdown",
   "metadata": {},
   "source": [
    "# Problema 4"
   ]
  },
  {
   "cell_type": "markdown",
   "metadata": {},
   "source": [
    "Imprima una tabla con la cantidad de empleados nacidos por año, ordenada por año y un año por línea. Use un espacio en blanco para separar el año y la cantidad de personas; por ejemplo, '1969 2'. "
   ]
  },
  {
   "cell_type": "code",
   "execution_count": 47,
   "metadata": {},
   "outputs": [
    {
     "name": "stdout",
     "output_type": "stream",
     "text": [
      "1969 2\n",
      "1970 2\n",
      "1971 5\n",
      "1972 1\n",
      "1973 1\n",
      "1974 1\n",
      "1975 2\n",
      "1976 4\n",
      "1977 3\n",
      "1978 1\n",
      "1979 5\n",
      "1980 4\n",
      "1981 2\n",
      "1982 2\n",
      "1983 1\n",
      "1984 2\n",
      "1985 3\n",
      "1986 3\n",
      "1987 1\n",
      "1988 3\n",
      "1990 2\n"
     ]
    }
   ],
   "source": [
    "y=list(employee.birthdate)\n",
    "u=[]\n",
    "\n",
    "for n in y:\n",
    "   n[4:8].isdigit()\n",
    "   u.append(n[4:8])\n",
    "\n",
    "\n",
    "employee['año']=u\n",
    "employee.head()\n",
    "\n",
    "añocount = employee.groupby('año').count()['employee.id']\n",
    "for x, y in enumerate(añocount.index):\n",
    "   print(y + \" \" + str(añocount.values[x]))"
   ]
  },
  {
   "cell_type": "markdown",
   "metadata": {},
   "source": [
    "# Problema 5"
   ]
  },
  {
   "cell_type": "markdown",
   "metadata": {},
   "source": [
    "Imprima una lista con las ciudades del archivo `employee` ordenadas alfabéticamente y sin repetir ciudad. Imprima una ciudad por renglón. "
   ]
  },
  {
   "cell_type": "code",
   "execution_count": 7,
   "metadata": {},
   "outputs": [
    {
     "name": "stdout",
     "output_type": "stream",
     "text": [
      "BELLEFONTE\n",
      "BLAINE\n",
      "BURNS FLAT\n",
      "CEDAR HILL\n",
      "CHANCELLOR\n",
      "CHARLOTTESVILLE\n",
      "CHESHIRE\n",
      "COPELAND\n",
      "FT MITCHELL\n",
      "GARRISON\n",
      "GRANDVIEW\n",
      "MANISTIQUE\n",
      "MONTCLAIR\n",
      "PAWCATUCK\n",
      "RIDGEFIELD\n",
      "RUIDOSO\n",
      "SANTA BARBARA\n",
      "SARASOTA\n",
      "TALLASSEE\n",
      "TAWAS CITY\n",
      "TEHACHAPI\n",
      "TERRA\n",
      "WINTER HAVEN\n"
     ]
    }
   ],
   "source": [
    "a= employee.city.unique()\n",
    "a.sort()\n",
    "for n in a:\n",
    "   print(n, end= '\\n')"
   ]
  },
  {
   "cell_type": "markdown",
   "metadata": {},
   "source": [
    "# Problema 6"
   ]
  },
  {
   "cell_type": "markdown",
   "metadata": {},
   "source": [
    "Imprima una lista con las ciudades del archivo `employee` ordenadas alfabéticamente indicando cuántas veces aparece cada ciudad en el archivo. Imprima una ciudad por renglón. Separe la ciudad y la cantidad por un espacio en blanco; por ejemplo: 'BELLEFONTE 3'."
   ]
  },
  {
   "cell_type": "code",
   "execution_count": 46,
   "metadata": {},
   "outputs": [
    {
     "name": "stdout",
     "output_type": "stream",
     "text": [
      "BELLEFONTE 3\n",
      "BLAINE 1\n",
      "BURNS FLAT 2\n",
      "CEDAR HILL 2\n",
      "CHANCELLOR 2\n",
      "CHARLOTTESVILLE 1\n",
      "CHESHIRE 1\n",
      "COPELAND 5\n",
      "FT MITCHELL 1\n",
      "GARRISON 2\n",
      "GRANDVIEW 2\n",
      "MANISTIQUE 2\n",
      "MONTCLAIR 3\n",
      "PAWCATUCK 4\n",
      "RIDGEFIELD 1\n",
      "RUIDOSO 1\n",
      "SANTA BARBARA 2\n",
      "SARASOTA 5\n",
      "TALLASSEE 1\n",
      "TAWAS CITY 2\n",
      "TEHACHAPI 1\n",
      "TERRA 3\n",
      "WINTER HAVEN 3\n"
     ]
    }
   ],
   "source": [
    "citycount = employee.groupby('city').count()['employee.id']\n",
    "employeesize = employee.index.size\n",
    "for x, y in enumerate(citycount.index):\n",
    "   print(y + \" \" + str(citycount.values[x]))"
   ]
  },
  {
   "cell_type": "markdown",
   "metadata": {},
   "source": [
    "# Problema 7"
   ]
  },
  {
   "cell_type": "markdown",
   "metadata": {},
   "source": [
    "Imprima, por cada ciudad diferente del archivo `employee`, cuántos registros quedan si se eliminan todos los registros que contienen dicha ciudad. Imprima la lista ordenada alfabéticamente. Separe la ciudad y la cantidad usando un espacio en blanco; por ejemplo: `'BELLEFONTE 47'`."
   ]
  },
  {
   "cell_type": "code",
   "execution_count": 45,
   "metadata": {},
   "outputs": [
    {
     "name": "stdout",
     "output_type": "stream",
     "text": [
      "BELLEFONTE 47\n",
      "BLAINE 49\n",
      "BURNS FLAT 48\n",
      "CEDAR HILL 48\n",
      "CHANCELLOR 48\n",
      "CHARLOTTESVILLE 49\n",
      "CHESHIRE 49\n",
      "COPELAND 45\n",
      "FT MITCHELL 49\n",
      "GARRISON 48\n",
      "GRANDVIEW 48\n",
      "MANISTIQUE 48\n",
      "MONTCLAIR 47\n",
      "PAWCATUCK 46\n",
      "RIDGEFIELD 49\n",
      "RUIDOSO 49\n",
      "SANTA BARBARA 48\n",
      "SARASOTA 45\n",
      "TALLASSEE 49\n",
      "TAWAS CITY 48\n",
      "TEHACHAPI 49\n",
      "TERRA 47\n",
      "WINTER HAVEN 47\n"
     ]
    }
   ],
   "source": [
    "citycount = employee.groupby('city').count()['employee.id']\n",
    "employeesize = employee.index.size\n",
    "for x, y in enumerate(citycount.index):\n",
    "   print(y + \" \" + str(employeesize - citycount.values[x]))"
   ]
  },
  {
   "cell_type": "markdown",
   "metadata": {},
   "source": [
    "# Problema 8"
   ]
  },
  {
   "cell_type": "markdown",
   "metadata": {},
   "source": [
    "Escriba una función que reciba el nombre completo de un hijo (campo `fullname` del archivo `family`), y devuelva el primer nombre (`fullname`) del padre. "
   ]
  },
  {
   "cell_type": "code",
   "execution_count": 58,
   "metadata": {
    "collapsed": true
   },
   "outputs": [],
   "source": [
    "def f(fullname):\n",
    "   z=list(family[family[\"fullname\"]==fullname][\"parent.id\"])[0]\n",
    "   return (list(employee[employee[\"employee.id\"]==z][\"fullname\"])[0]).split(\" \")[0]"
   ]
  },
  {
   "cell_type": "code",
   "execution_count": 59,
   "metadata": {},
   "outputs": [
    {
     "name": "stdout",
     "output_type": "stream",
     "text": [
      "Jermaine\n",
      "Gerald\n",
      "Matt\n",
      "Bailey\n"
     ]
    }
   ],
   "source": [
    "###__test__\n",
    "print(f('Jean Bailey'))\n",
    "print(f('Berneice Neil'))\n",
    "print(f('Mammie Montano'))\n",
    "print(f('Nettie Beasley'))"
   ]
  },
  {
   "cell_type": "markdown",
   "metadata": {},
   "source": [
    "# Problema 9"
   ]
  },
  {
   "cell_type": "markdown",
   "metadata": {},
   "source": [
    "Escriba una función que reciba el número de orden (`order.id`) y devuelva el nombre completo (`fullname`) del empleado que la atendio."
   ]
  },
  {
   "cell_type": "code",
   "execution_count": 17,
   "metadata": {
    "collapsed": true
   },
   "outputs": [],
   "source": [
    "def f(orderid):\n",
    "    ordenes = pandas.concat([order2000, order2001, order2002, order2003, order2004, order2005, order2006, order2007, order2008, order2009, order2010, order2011, order2012, order2013, order2014, order2015, order2016])\n",
    "    e = employee.sort_values(['employee.id'], ascending = True)\n",
    "    e = pandas.DataFrame(data = e, columns=['employee.id', 'fullname'])\n",
    "    a = pandas.merge(ordenes, e, on = ['employee.id', 'employee.id'])\n",
    "    z = a[a['order.id'] == orderid]\n",
    "    z = z['fullname'].values\n",
    "    return z[0]"
   ]
  },
  {
   "cell_type": "code",
   "execution_count": 18,
   "metadata": {},
   "outputs": [
    {
     "name": "stdout",
     "output_type": "stream",
     "text": [
      "Christy Petry\n",
      "Damaris Parry\n",
      "Bailey Beasley\n"
     ]
    }
   ],
   "source": [
    "###__test__\n",
    "print(f(309))\n",
    "print(f(653))\n",
    "print(f(996))"
   ]
  },
  {
   "cell_type": "markdown",
   "metadata": {},
   "source": [
    "# Problema 10"
   ]
  },
  {
   "cell_type": "markdown",
   "metadata": {},
   "source": [
    "Escriba una función que reciba el número de orden (`order.id`) y devuelva el nombre completo (`fullname`) del cliente que la solicitó."
   ]
  },
  {
   "cell_type": "code",
   "execution_count": 50,
   "metadata": {
    "collapsed": true
   },
   "outputs": [],
   "source": [
    "def f(orderid):\n",
    "   ordenes = pandas.concat([order2000, order2001, order2002, order2003, order2004, order2005, order2006, order2007, order2008, order2009, order2010, order2011, order2012, order2013, order2014, order2015, order2016])\n",
    "   orden=ordenes[ordenes['order.id']== orderid]\n",
    "   ordenid=list(orden['customer.id'])\n",
    "   clienteid=customer[customer['customer.id']== ordenid]\n",
    "   return clienteid['fullname'].values[0]"
   ]
  },
  {
   "cell_type": "code",
   "execution_count": 51,
   "metadata": {},
   "outputs": [
    {
     "name": "stdout",
     "output_type": "stream",
     "text": [
      "Carmen Zimmerman\n",
      "Theodore Pernell\n",
      "Marilynn Laws\n"
     ]
    }
   ],
   "source": [
    "###__test__\n",
    "print(f(309))\n",
    "print(f(653))\n",
    "print(f(996))"
   ]
  },
  {
   "cell_type": "markdown",
   "metadata": {},
   "source": [
    "# Problema 11"
   ]
  },
  {
   "cell_type": "markdown",
   "metadata": {},
   "source": [
    "Escriba una función que reciba el nombre de un empleado (`fullname`) y retorne la cantidad de órdenes atendidas por él."
   ]
  },
  {
   "cell_type": "code",
   "execution_count": 63,
   "metadata": {
    "collapsed": true
   },
   "outputs": [],
   "source": [
    "def f(fullname):\n",
    "   ordenes = pandas.concat([order2000, order2001, order2002, order2003, order2004, order2005, order2006, order2007, order2008, order2009, order2010, order2011, order2012, order2013, order2014, order2015, order2016])\n",
    "   empleado=employee[employee['fullname'] == fullname]\n",
    "   idemple=list(empleado['employee.id'])\n",
    "   orden=ordenes['employee.id'].value_counts()[idemple]\n",
    "   return orden.values[0]"
   ]
  },
  {
   "cell_type": "code",
   "execution_count": 64,
   "metadata": {},
   "outputs": [
    {
     "name": "stdout",
     "output_type": "stream",
     "text": [
      "238\n",
      "225\n",
      "270\n"
     ]
    }
   ],
   "source": [
    "###__test__\n",
    "print(f('Christy Petry'))\n",
    "print(f('Gisela Strong'))\n",
    "print(f('Ellis Ervin'))"
   ]
  },
  {
   "cell_type": "markdown",
   "metadata": {},
   "source": [
    "# Problema 12"
   ]
  },
  {
   "cell_type": "markdown",
   "metadata": {},
   "source": [
    "Escriba una función que reciba el nombre de un empleado y retorne el valor mínino del campo `order.id` del total de ordenes que atendió. "
   ]
  },
  {
   "cell_type": "code",
   "execution_count": 65,
   "metadata": {
    "collapsed": true
   },
   "outputs": [],
   "source": [
    "def f(fullname):\n",
    "   ordenes = pandas.concat([order2000, order2001, order2002, order2003, order2004, order2005, order2006, order2007, order2008, order2009, order2010, order2011, order2012, order2013, order2014, order2015, order2016])\n",
    "   empleado=employee[employee['fullname'] == fullname]\n",
    "   idemple=list(empleado['employee.id'])\n",
    "\n",
    "   orden=ordenes[ordenes['employee.id']== idemple]\n",
    "   minimo=orden.groupby('order.id').min()\n",
    "\n",
    "   return minimo.values[0,0]"
   ]
  },
  {
   "cell_type": "code",
   "execution_count": 66,
   "metadata": {},
   "outputs": [
    {
     "name": "stdout",
     "output_type": "stream",
     "text": [
      "14\n",
      "27\n",
      "20\n"
     ]
    }
   ],
   "source": [
    "###__test__\n",
    "print(f('Christy Petry'))\n",
    "print(f('Gisela Strong'))\n",
    "print(f('Ellis Ervin'))"
   ]
  },
  {
   "cell_type": "markdown",
   "metadata": {},
   "source": [
    "# Problema 13"
   ]
  },
  {
   "cell_type": "markdown",
   "metadata": {},
   "source": [
    "Escriba una función que reciba el `order.id` de una orden y retorne el cálculo del valor total de la orden."
   ]
  },
  {
   "cell_type": "code",
   "execution_count": 60,
   "metadata": {
    "collapsed": true
   },
   "outputs": [],
   "source": [
    "def f(orderid):\n",
    "   m=orderdetail[orderdetail[\"order.id\"]==orderid]\n",
    "   t=0\n",
    "   for i in range(len(m)):\n",
    "       t=t+(m.iloc[i,4]*m.iloc[i,5])\n",
    "   return t"
   ]
  },
  {
   "cell_type": "code",
   "execution_count": 61,
   "metadata": {
    "scrolled": false
   },
   "outputs": [
    {
     "name": "stdout",
     "output_type": "stream",
     "text": [
      "2572\n",
      "2979\n",
      "9317\n"
     ]
    }
   ],
   "source": [
    "###__test__\n",
    "print(f(1))\n",
    "print(f(2))\n",
    "print(f(3))"
   ]
  },
  {
   "cell_type": "markdown",
   "metadata": {},
   "source": [
    "# Problema 14"
   ]
  },
  {
   "cell_type": "markdown",
   "metadata": {},
   "source": [
    "Imprima la cantidad de empleados que nacieron en cada uno de los trimestres (`Q1`, `Q2`, `Q3`, `Q4`) del año. Imprima un trimestre por reglón, separando las cantidades por un espacio en blanco. Por ejemplo: `'Q1 18'`. "
   ]
  },
  {
   "cell_type": "code",
   "execution_count": 62,
   "metadata": {},
   "outputs": [
    {
     "name": "stdout",
     "output_type": "stream",
     "text": [
      "Q1 16\n",
      "Q2 9\n",
      "Q3 14\n",
      "Q4 11\n"
     ]
    }
   ],
   "source": [
    "p=employee[\"birthdate\"].str[9:11]\n",
    "\n",
    "Q1=0\n",
    "Q2=0\n",
    "Q3=0\n",
    "Q4=0\n",
    "\n",
    "for i in p:\n",
    "   if (i==\"01\" or i==\"02\" or i==\"03\"):\n",
    "       Q1=Q1+1\n",
    "   elif (i==\"04\" or i==\"05\" or i==\"06\"):\n",
    "       Q2=Q2+1\n",
    "   elif (i==\"07\" or i==\"08\" or i==\"09\"):\n",
    "       Q3=Q3+1\n",
    "   elif (i==\"10\" or i==\"11\" or i==\"12\"):\n",
    "       Q4=Q4+1\n",
    "print(\"Q1\" + \" \" + str(Q1))\n",
    "print(\"Q2\" + \" \" + str(Q2))\n",
    "print(\"Q3\" + \" \" + str(Q3))\n",
    "print(\"Q4\" + \" \" + str(Q4))"
   ]
  },
  {
   "cell_type": "markdown",
   "metadata": {},
   "source": [
    "# Problema 15"
   ]
  },
  {
   "cell_type": "markdown",
   "metadata": {},
   "source": [
    "Escriba una función que reciba un grupo de cuatro dígitos e imprima la cantidad de veces que aparece dicho número en el segundo grupo de dígitos de todos los números telefónicos."
   ]
  },
  {
   "cell_type": "code",
   "execution_count": 15,
   "metadata": {
    "collapsed": true
   },
   "outputs": [],
   "source": [
    "supplier['phonem']=supplier.loc[:,'phone'].str[5:9]\n",
    "phone1 = pandas.DataFrame(supplier['phonem'])\n",
    "customer['phonem']=customer.loc[:,'phone'].str[5:9]\n",
    "phone2 = pandas.DataFrame(customer['phonem'])\n",
    "employee['phonem']=employee.loc[:, 'phone'].str[5:9]\n",
    "phone3 = pandas.DataFrame(employee['phonem'])\n",
    "phones = pandas.concat([phone1, phone2, phone3])\n",
    "phones\n",
    "def f(num):\n",
    "    num = phones[phones['phonem'] == num]['phonem'].values\n",
    "    return len(num)\n",
    "    "
   ]
  },
  {
   "cell_type": "code",
   "execution_count": 16,
   "metadata": {},
   "outputs": [
    {
     "name": "stdout",
     "output_type": "stream",
     "text": [
      "23\n",
      "28\n",
      "26\n"
     ]
    }
   ],
   "source": [
    "###__test__\n",
    "print(f('1289'))\n",
    "print(f('2345'))\n",
    "print(f('4876'))"
   ]
  },
  {
   "cell_type": "markdown",
   "metadata": {},
   "source": [
    "---"
   ]
  }
 ],
 "metadata": {
  "kernelspec": {
   "display_name": "Python 3",
   "language": "python",
   "name": "python3"
  },
  "language_info": {
   "codemirror_mode": {
    "name": "ipython",
    "version": 3
   },
   "file_extension": ".py",
   "mimetype": "text/x-python",
   "name": "python",
   "nbconvert_exporter": "python",
   "pygments_lexer": "ipython3",
   "version": "3.6.1"
  }
 },
 "nbformat": 4,
 "nbformat_minor": 1
}
